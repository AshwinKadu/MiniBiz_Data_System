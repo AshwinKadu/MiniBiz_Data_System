{
 "cells": [
  {
   "cell_type": "code",
   "execution_count": 9,
   "id": "6827044b",
   "metadata": {},
   "outputs": [
    {
     "name": "stdout",
     "output_type": "stream",
     "text": [
      "Defaulting to user installation because normal site-packages is not writeable\n",
      "Requirement already satisfied: mysql in c:\\users\\anike\\appdata\\local\\packages\\pythonsoftwarefoundation.python.3.12_qbz5n2kfra8p0\\localcache\\local-packages\\python312\\site-packages (0.0.3)\n",
      "Requirement already satisfied: mysqlclient in c:\\users\\anike\\appdata\\local\\packages\\pythonsoftwarefoundation.python.3.12_qbz5n2kfra8p0\\localcache\\local-packages\\python312\\site-packages (from mysql) (2.2.7)\n",
      "Note: you may need to restart the kernel to use updated packages.\n"
     ]
    }
   ],
   "source": [
    "pip install mysql"
   ]
  },
  {
   "cell_type": "code",
   "execution_count": 4,
   "id": "b1b43009",
   "metadata": {},
   "outputs": [
    {
     "ename": "SyntaxError",
     "evalue": "Did you mean to use 'from ... import ...' instead? (2204810825.py, line 1)",
     "output_type": "error",
     "traceback": [
      "  \u001b[36mCell\u001b[39m\u001b[36m \u001b[39m\u001b[32mIn[4]\u001b[39m\u001b[32m, line 1\u001b[39m\n\u001b[31m    \u001b[39m\u001b[31mimport mysql.connector from mysql\u001b[39m\n    ^\n\u001b[31mSyntaxError\u001b[39m\u001b[31m:\u001b[39m Did you mean to use 'from ... import ...' instead?\n"
     ]
    }
   ],
   "source": [
    "import mysql.connector from mysql\n",
    "\n",
    "db_config = {\n",
    "    'host':'AniketKadu',\n",
    "    'user':'root',\n",
    "    'password':'Ask@1234',\n",
    "    'database':'minibiz'\n",
    "}\n",
    "try:\n",
    "    conn = mysql.connect(**dbconfig) \n",
    "\n",
    "    if conn.is_connected():\n",
    "        print(\"Connected to MySQL database\")\n",
    "\n",
    "except conn.is_connected():\n",
    "        print(\"Connected to MySQL database\")        \n",
    "\n",
    "finally:\n",
    "    # Close the connection when done\n",
    "    if 'conn' in locals() and conn.is_connected():\n",
    "        conn.close()\n",
    "        print(\"MySQL connection closed\")"
   ]
  },
  {
   "cell_type": "code",
   "execution_count": null,
   "id": "da76d170",
   "metadata": {},
   "outputs": [],
   "source": []
  }
 ],
 "metadata": {
  "kernelspec": {
   "display_name": "Python 3",
   "language": "python",
   "name": "python3"
  },
  "language_info": {
   "codemirror_mode": {
    "name": "ipython",
    "version": 3
   },
   "file_extension": ".py",
   "mimetype": "text/x-python",
   "name": "python",
   "nbconvert_exporter": "python",
   "pygments_lexer": "ipython3",
   "version": "3.12.10"
  }
 },
 "nbformat": 4,
 "nbformat_minor": 5
}
